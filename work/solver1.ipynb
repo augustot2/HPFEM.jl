{
 "cells": [
  {
   "cell_type": "code",
   "execution_count": 77,
   "metadata": {
    "collapsed": false
   },
   "outputs": [
    {
     "name": "stderr",
     "output_type": "stream",
     "text": [
      "WARNING: replacing module HPFEM\n"
     ]
    },
    {
     "data": {
      "text/plain": [
       "HPFEM"
      ]
     },
     "execution_count": 77,
     "metadata": {},
     "output_type": "execute_result"
    }
   ],
   "source": [
    "include(\"../src/HPFEM.jl\")"
   ]
  },
  {
   "cell_type": "code",
   "execution_count": 100,
   "metadata": {
    "collapsed": false
   },
   "outputs": [],
   "source": [
    "nel = 1\n",
    "nnodes = nel + 1\n",
    "idir = [1,nnodes]\n",
    "M = 5\n",
    "Q = M+2\n",
    "bas = HPFEM.Basis1d(M,Q)\n",
    "lmap = HPFEM.locmap(bas)\n",
    "dof = HPFEM.DofMap1d(lmap, nnodes, idir);"
   ]
  },
  {
   "cell_type": "code",
   "execution_count": 110,
   "metadata": {
    "collapsed": false
   },
   "outputs": [
    {
     "data": {
      "text/plain": [
       "2-element Array{Float64,1}:\n",
       " 0.0    \n",
       " 3.14159"
      ]
     },
     "execution_count": 110,
     "metadata": {},
     "output_type": "execute_result"
    }
   ],
   "source": [
    "a = 0.0\n",
    "b = π\n",
    "nodes = collect(linspace(a, b, nnodes))"
   ]
  },
  {
   "cell_type": "code",
   "execution_count": 111,
   "metadata": {
    "collapsed": false
   },
   "outputs": [],
   "source": [
    "elems = [HPFEM.Element1d(e, nodes[e], nodes[e+1], bas) for e = 1:nel];"
   ]
  },
  {
   "cell_type": "code",
   "execution_count": 112,
   "metadata": {
    "collapsed": false
   },
   "outputs": [],
   "source": [
    "solver = HPFEM.CholeskySC(dof, HPFEM.BBMatrix);"
   ]
  },
  {
   "cell_type": "code",
   "execution_count": 113,
   "metadata": {
    "collapsed": false
   },
   "outputs": [],
   "source": [
    "for e = 1:nel\n",
    "    Ae = HPFEM.mass_matrix(bas, elems[e])\n",
    "    HPFEM.add_local_matrix(solver, e, Ae)\n",
    "end\n"
   ]
  },
  {
   "cell_type": "code",
   "execution_count": 114,
   "metadata": {
    "collapsed": false
   },
   "outputs": [
    {
     "data": {
      "text/plain": [
       "5x1 Array{Float64,2}:\n",
       "  1.0        \n",
       " -1.0        \n",
       "  6.93889e-18\n",
       " -0.274834   \n",
       " -2.08167e-17"
      ]
     },
     "execution_count": 114,
     "metadata": {},
     "output_type": "execute_result"
    }
   ],
   "source": [
    "Fe = zeros(HPFEM.nmodes(lmap), nel)\n",
    "\n",
    "for e = 1:nel\n",
    "    fe = cos(elems[e].x)\n",
    "    HPFEM.add_rhs!(bas, elems[e], fe, sub(Fe, :, e))\n",
    "end\n",
    "\n",
    "# Apply Dirichilet BCs:\n",
    "Fe[1,1] = cos(a)\n",
    "Fe[2,nel] = cos(b)\n",
    "Fe\n"
   ]
  },
  {
   "cell_type": "code",
   "execution_count": 115,
   "metadata": {
    "collapsed": false
   },
   "outputs": [
    {
     "data": {
      "text/plain": [
       "5x1 Array{Float64,2}:\n",
       "  1.0    \n",
       " -6.76518\n",
       " 16.1425 \n",
       " 12.4962 \n",
       "  8.07125"
      ]
     },
     "execution_count": 115,
     "metadata": {},
     "output_type": "execute_result"
    }
   ],
   "source": [
    "HPFEM.solve!(solver, Fe)"
   ]
  },
  {
   "cell_type": "code",
   "execution_count": 116,
   "metadata": {
    "collapsed": false
   },
   "outputs": [],
   "source": [
    "ξ = collect(linspace(-1,1,101));\n",
    "nq = length(ξ)\n",
    "fun = zeros(nq, nel)\n",
    "for e = 1:nel\n",
    "    for k = 1:M\n",
    "        for q = 1:nq\n",
    "            fun[q,e] += Fe[k,e] * bas(ξ[q], k)\n",
    "        end\n",
    "    end\n",
    "end\n",
    "\n"
   ]
  },
  {
   "cell_type": "code",
   "execution_count": 117,
   "metadata": {
    "collapsed": false
   },
   "outputs": [
    {
     "data": {
      "image/png": "[encoded data removed]",
      "text/plain": [
       "PyPlot.Figure(PyObject <matplotlib.figure.Figure object at 0x7f55c61817d0>)"
      ]
     },
     "metadata": {},
     "output_type": "display_data"
    }
   ],
   "source": [
    "using PyPlot\n",
    "\n",
    "for e = 1:nel\n",
    "    el = elems[e]\n",
    "    x = (1-ξ)*el.a/2 + (1+ξ)*el.b/2\n",
    "    \n",
    "    plot(x, fun[:,e])\n",
    "end"
   ]
  },
  {
   "cell_type": "code",
   "execution_count": null,
   "metadata": {
    "collapsed": true
   },
   "outputs": [],
   "source": []
  }
 ],
 "metadata": {
  "kernelspec": {
   "display_name": "Julia 0.4.5",
   "language": "julia",
   "name": "julia-0.4"
  },
  "language_info": {
   "file_extension": ".jl",
   "mimetype": "application/julia",
   "name": "julia",
   "version": "0.4.5"
  }
 },
 "nbformat": 4,
 "nbformat_minor": 0
}
