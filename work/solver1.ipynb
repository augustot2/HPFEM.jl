{
 "cells": [
  {
   "cell_type": "code",
   "execution_count": 123,
   "metadata": {
    "collapsed": false
   },
   "outputs": [
    {
     "name": "stderr",
     "output_type": "stream",
     "text": [
      "WARNING: replacing module HPFEM\n"
     ]
    },
    {
     "data": {
      "text/plain": [
       "HPFEM"
      ]
     },
     "execution_count": 123,
     "metadata": {},
     "output_type": "execute_result"
    }
   ],
   "source": [
    "include(\"../src/HPFEM.jl\")"
   ]
  },
  {
   "cell_type": "code",
   "execution_count": 124,
   "metadata": {
    "collapsed": false
   },
   "outputs": [
    {
     "name": "stdout",
     "output_type": "stream",
     "text": [
      "2\n"
     ]
    }
   ],
   "source": [
    "nel = 2\n",
    "nnodes = nel + 1\n",
    "idir = Int[]#[1,nnodes]\n",
    "M = 3\n",
    "Q = M+2\n",
    "bas = HPFEM.Basis1d(M,Q)\n",
    "lmap = HPFEM.locmap(bas)\n",
    "dof = HPFEM.DofMap1d(lmap, nnodes, idir);\n"
   ]
  },
  {
   "cell_type": "code",
   "execution_count": 125,
   "metadata": {
    "collapsed": false
   },
   "outputs": [
    {
     "data": {
      "text/plain": [
       "1"
      ]
     },
     "execution_count": 125,
     "metadata": {},
     "output_type": "execute_result"
    }
   ],
   "source": [
    "lmap.ni"
   ]
  },
  {
   "cell_type": "code",
   "execution_count": 126,
   "metadata": {
    "collapsed": false
   },
   "outputs": [
    {
     "data": {
      "text/plain": [
       "3-element Array{Float64,1}:\n",
       " 0.0    \n",
       " 1.5708 \n",
       " 3.14159"
      ]
     },
     "execution_count": 126,
     "metadata": {},
     "output_type": "execute_result"
    }
   ],
   "source": [
    "a = 0.0\n",
    "b = π\n",
    "nodes = collect(linspace(a, b, nnodes))"
   ]
  },
  {
   "cell_type": "code",
   "execution_count": 127,
   "metadata": {
    "collapsed": false
   },
   "outputs": [],
   "source": [
    "elems = [HPFEM.Element1d(e, nodes[e], nodes[e+1], bas) for e = 1:nel];"
   ]
  },
  {
   "cell_type": "code",
   "execution_count": 128,
   "metadata": {
    "collapsed": false
   },
   "outputs": [],
   "source": [
    "solver = HPFEM.CholeskySC(dof, HPFEM.BBMatrix);"
   ]
  },
  {
   "cell_type": "code",
   "execution_count": 129,
   "metadata": {
    "collapsed": false
   },
   "outputs": [],
   "source": [
    "for e = 1:nel\n",
    "    Ae = HPFEM.mass_matrix(bas, elems[e])\n",
    "    HPFEM.add_local_matrix(solver, e, Ae)\n",
    "end\n"
   ]
  },
  {
   "cell_type": "code",
   "execution_count": 130,
   "metadata": {
    "collapsed": false
   },
   "outputs": [],
   "source": [
    "Fe = zeros(HPFEM.nmodes(lmap), nel)\n",
    "\n",
    "for e = 1:nel\n",
    "    fe = cos(elems[e].x)\n",
    "    HPFEM.add_rhs!(bas, elems[e], fe, sub(Fe, :, e))\n",
    "end\n",
    "\n",
    "# Apply Dirichilet BCs:\n",
    "#Fe[1,1] = cos(a)\n",
    "#Fe[2,nel] = cos(b)\n",
    "#Fe\n"
   ]
  },
  {
   "cell_type": "code",
   "execution_count": 131,
   "metadata": {
    "collapsed": false
   },
   "outputs": [
    {
     "data": {
      "text/plain": [
       "3x2 Array{Float64,2}:\n",
       " 1.02747       7.48366e-17\n",
       " 7.48366e-17  -1.02747    \n",
       " 0.753525     -0.753525   "
      ]
     },
     "execution_count": 131,
     "metadata": {},
     "output_type": "execute_result"
    }
   ],
   "source": [
    "HPFEM.solve!(solver, Fe)"
   ]
  },
  {
   "cell_type": "code",
   "execution_count": 132,
   "metadata": {
    "collapsed": false
   },
   "outputs": [],
   "source": [
    "ξ = collect(linspace(-1,1,101));\n",
    "nq = length(ξ)\n",
    "fun = zeros(nq, nel)\n",
    "for e = 1:nel\n",
    "    for k = 1:M\n",
    "        for q = 1:nq\n",
    "            fun[q,e] += Fe[k,e] * bas(ξ[q], k)\n",
    "        end\n",
    "    end\n",
    "end\n",
    "\n"
   ]
  },
  {
   "cell_type": "code",
   "execution_count": 133,
   "metadata": {
    "collapsed": false
   },
   "outputs": [
    {
     "data": {
      "image/png": "[encoded data removed]",
      "text/plain": [
       "PyPlot.Figure(PyObject <matplotlib.figure.Figure object at 0x7fa4c1939610>)"
      ]
     },
     "metadata": {},
     "output_type": "display_data"
    },
    {
     "data": {
      "text/plain": [
       "0.027472645259688067"
      ]
     },
     "execution_count": 133,
     "metadata": {},
     "output_type": "execute_result"
    }
   ],
   "source": [
    "using PyPlot\n",
    "maxerr = 0.0\n",
    "for e = 1:nel\n",
    "    el = elems[e]\n",
    "    x = (1-ξ)*el.a/2 + (1+ξ)*el.b/2\n",
    "    err = maxabs(fun[:,e] - cos(x))\n",
    "    \n",
    "    if err > maxerr\n",
    "        maxerr = err\n",
    "    end\n",
    "    plot(x, fun[:,e])\n",
    "    plot(x, cos(x))\n",
    "end\n",
    "maxerr"
   ]
  },
  {
   "cell_type": "code",
   "execution_count": null,
   "metadata": {
    "collapsed": true
   },
   "outputs": [],
   "source": []
  },
  {
   "cell_type": "code",
   "execution_count": null,
   "metadata": {
    "collapsed": true
   },
   "outputs": [],
   "source": []
  }
 ],
 "metadata": {
  "kernelspec": {
   "display_name": "Julia 0.4.5",
   "language": "julia",
   "name": "julia-0.4"
  },
  "language_info": {
   "file_extension": ".jl",
   "mimetype": "application/julia",
   "name": "julia",
   "version": "0.4.5"
  }
 },
 "nbformat": 4,
 "nbformat_minor": 0
}
