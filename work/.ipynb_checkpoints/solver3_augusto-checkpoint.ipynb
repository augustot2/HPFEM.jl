{
 "cells": [
  {
   "cell_type": "code",
   "execution_count": 3,
   "metadata": {
    "collapsed": false
   },
   "outputs": [
    {
     "data": {
      "text/plain": [
       "HPFEM"
      ]
     },
     "execution_count": 3,
     "metadata": {},
     "output_type": "execute_result"
    }
   ],
   "source": [
    "include(\"../src/HPFEM.jl\")"
   ]
  },
  {
   "cell_type": "code",
   "execution_count": 4,
   "metadata": {
    "collapsed": false
   },
   "outputs": [],
   "source": [
    "nel = 10\n",
    "nnodes = nel + 1\n",
    "idir = [1,nnodes]\n",
    "M = 15\n",
    "Q = M+2\n",
    "bas = HPFEM.Basis1d(M,Q)\n",
    "lmap = HPFEM.locmap(bas)\n",
    "dof = HPFEM.DofMap1d(lmap, nnodes, idir);\n"
   ]
  },
  {
   "cell_type": "code",
   "execution_count": 2,
   "metadata": {
    "collapsed": false
   },
   "outputs": [
    {
     "data": {
      "text/plain": [
       "λ (generic function with 1 method)"
      ]
     },
     "execution_count": 2,
     "metadata": {},
     "output_type": "execute_result"
    }
   ],
   "source": [
    "fun(x) = 1\n",
    "#resp(x) = sin(2*pi*x)\n",
    "λ(x) = x"
   ]
  },
  {
   "cell_type": "code",
   "execution_count": 5,
   "metadata": {
    "collapsed": false
   },
   "outputs": [
    {
     "data": {
      "text/plain": [
       "11-element Array{Float64,1}:\n",
       " -1.0\n",
       " -0.8\n",
       " -0.6\n",
       " -0.4\n",
       " -0.2\n",
       "  0.0\n",
       "  0.2\n",
       "  0.4\n",
       "  0.6\n",
       "  0.8\n",
       "  1.0"
      ]
     },
     "execution_count": 5,
     "metadata": {},
     "output_type": "execute_result"
    }
   ],
   "source": [
    "a = -1\n",
    "b = 1\n",
    "nodes = collect(linspace(a, b, nnodes))"
   ]
  },
  {
   "cell_type": "code",
   "execution_count": 6,
   "metadata": {
    "collapsed": false
   },
   "outputs": [],
   "source": [
    "elems = [HPFEM.Element1d(e, nodes[e], nodes[e+1], bas) for e = 1:nel];"
   ]
  },
  {
   "cell_type": "code",
   "execution_count": 7,
   "metadata": {
    "collapsed": false
   },
   "outputs": [],
   "source": [
    "solver = HPFEM.CholeskySC(dof, HPFEM.BBMatrix);"
   ]
  },
  {
   "cell_type": "code",
   "execution_count": 8,
   "metadata": {
    "collapsed": false
   },
   "outputs": [],
   "source": [
    "for e = 1:nel\n",
    "    x  = elems[e].x\n",
    "    lambda = λ(x)\n",
    "    Ae = HPFEM.mass_matrix(bas, elems[e],lambda)\n",
    "    Se = HPFEM.stiff_matrix(bas,elems[e],lambda)\n",
    "    Ae = Ae + Se\n",
    "    HPFEM.add_local_matrix(solver, e, Ae)\n",
    "end\n"
   ]
  },
  {
   "cell_type": "code",
   "execution_count": 11,
   "metadata": {
    "collapsed": false
   },
   "outputs": [
    {
     "ename": "LoadError",
     "evalue": "LoadError: MethodError: `add_rhs!` has no method matching add_rhs!(::HPFEM.Basis1d{Float64,HPFEM.ModalC01d}, ::HPFEM.Element1d{Float64}, ::Int64, ::SubArray{Float64,1,Array{Float64,2},Tuple{Colon,Int64},2})\nClosest candidates are:\n  add_rhs!{T<:Number}(::HPFEM.GenBasis1d, ::HPFEM.Element1d{T<:Number}, !Matched::AbstractArray{T<:Number,1}, ::AbstractArray{T<:Number,1})\n  add_rhs!{T<:Number}(!Matched::HPFEM.SEM1d{T<:Number}, ::HPFEM.Element1d{T<:Number}, !Matched::AbstractArray{T<:Number,1}, ::AbstractArray{T<:Number,1})\nwhile loading In[11], in expression starting on line 2",
     "output_type": "error",
     "traceback": [
      "LoadError: MethodError: `add_rhs!` has no method matching add_rhs!(::HPFEM.Basis1d{Float64,HPFEM.ModalC01d}, ::HPFEM.Element1d{Float64}, ::Int64, ::SubArray{Float64,1,Array{Float64,2},Tuple{Colon,Int64},2})\nClosest candidates are:\n  add_rhs!{T<:Number}(::HPFEM.GenBasis1d, ::HPFEM.Element1d{T<:Number}, !Matched::AbstractArray{T<:Number,1}, ::AbstractArray{T<:Number,1})\n  add_rhs!{T<:Number}(!Matched::HPFEM.SEM1d{T<:Number}, ::HPFEM.Element1d{T<:Number}, !Matched::AbstractArray{T<:Number,1}, ::AbstractArray{T<:Number,1})\nwhile loading In[11], in expression starting on line 2",
      "",
      " [inlined code] from In[11]:4",
      " in anonymous at no file:0"
     ]
    }
   ],
   "source": [
    "Fe = zeros(HPFEM.nmodes(lmap), nel)\n",
    "for e = 1:nel\n",
    "    fe = fun(elems[e].x)\n",
    "    HPFEM.add_rhs!(bas, elems[e], fe, sub(Fe, :, e))\n",
    "end\n",
    "\n",
    "# Apply Dirichilet BCs:\n",
    "Fe[1,1] = airyai(a)\n",
    "Fe[2,nel]= airyai(b)\n"
   ]
  },
  {
   "cell_type": "code",
   "execution_count": 88,
   "metadata": {
    "collapsed": false
   },
   "outputs": [
    {
     "data": {
      "text/plain": [
       "15x2 Array{Float64,2}:\n",
       "  0.0  -0.0\n",
       " -0.0   0.0\n",
       " -0.0   0.0\n",
       " -0.0   0.0\n",
       " -0.0   0.0\n",
       " -0.0   0.0\n",
       " -0.0   0.0\n",
       "  0.0   0.0\n",
       "  0.0   0.0\n",
       "  0.0   0.0\n",
       " -0.0   0.0\n",
       "  0.0   0.0\n",
       "  0.0   0.0\n",
       "  0.0   0.0\n",
       "  0.0   0.0"
      ]
     },
     "execution_count": 88,
     "metadata": {},
     "output_type": "execute_result"
    }
   ],
   "source": [
    "HPFEM.solve!(solver, Fe)"
   ]
  },
  {
   "cell_type": "code",
   "execution_count": 89,
   "metadata": {
    "collapsed": false
   },
   "outputs": [],
   "source": [
    "nξ = 101\n",
    "ξ = collect(linspace(-1,1,nξ));\n",
    "ϕ = zeros(nξ, M)\n",
    "for i = 1:M\n",
    "    ϕ[:,i] = bas(ξ, i)\n",
    "end\n",
    "\n",
    "Ue = ϕ * Fe;\n",
    "\n"
   ]
  },
  {
   "cell_type": "code",
   "execution_count": 90,
   "metadata": {
    "collapsed": false
   },
   "outputs": [
    {
     "data": {
      "image/png": "[encoded data removed]",
      "text/plain": [
       "PyPlot.Figure(PyObject <matplotlib.figure.Figure object at 0x7f7a97c98390>)"
      ]
     },
     "metadata": {},
     "output_type": "display_data"
    },
    {
     "data": {
      "text/plain": [
       "1.0"
      ]
     },
     "execution_count": 90,
     "metadata": {},
     "output_type": "execute_result"
    }
   ],
   "source": [
    "using PyPlot\n",
    "x = [(1-ξ)*el.a/2 + (1+ξ)*el.b/2 for el in elems]\n",
    "maxerr = 0.0\n",
    "\n",
    "for e = 1:nel\n",
    "    uu = resp(x[e])\n",
    "    err = maxabs(uu-Ue[:,e])\n",
    "    if err > maxerr maxerr = err end\n",
    "    plot(x[e], Ue[:,e])\n",
    "    #plot(x[e], uu, \"b\")\n",
    "end\n",
    "maxerr"
   ]
  },
  {
   "cell_type": "code",
   "execution_count": null,
   "metadata": {
    "collapsed": true
   },
   "outputs": [],
   "source": []
  },
  {
   "cell_type": "code",
   "execution_count": null,
   "metadata": {
    "collapsed": true
   },
   "outputs": [],
   "source": []
  }
 ],
 "metadata": {
  "kernelspec": {
   "display_name": "Julia 0.4.5",
   "language": "julia",
   "name": "julia-0.4"
  },
  "language_info": {
   "file_extension": ".jl",
   "mimetype": "application/julia",
   "name": "julia",
   "version": "0.4.5"
  }
 },
 "nbformat": 4,
 "nbformat_minor": 0
}
