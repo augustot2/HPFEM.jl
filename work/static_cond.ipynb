{
 "cells": [
  {
   "cell_type": "markdown",
   "metadata": {},
   "source": [
    "# Use of static condensation to solve a linear system\n",
    "\n",
    "When using the spectral element method (SEM) to solve partial differential equations (PDE), it is common for the basis function to have modes with support on boundaries (of elements) and modes with support only inside an element. This structure can be exploited when solving the linear system.\n",
    "\n",
    "Here, as an exercise for implementing the solver using this technique, we will use it to solve a symmetric linear system that is decomposed as \n",
    "\n",
    "$$\n",
    "A\\cdot x  = \\left[ \n",
    "\\begin{matrix} \n",
    "A_{bb} & A_{bi} \\\\\n",
    "A_{ib} & A_{ii} \\\\\n",
    "\\end{matrix}\\right] \\cdot \\left\\{\n",
    "\\begin{matrix} x_b \\\\ x_i \\\\ \n",
    "\\end{matrix}\\right\\} = \n",
    "\\left\\{\\begin{matrix} f_b \\\\ f_i \\\\\\end{matrix}\\right\\} \n",
    "$$\n",
    "\n",
    "where $A_{bb}$, $A_{bi}$, $A_{ib}$ and $A_{ii}$ are submatrices.\n",
    "\n",
    "The second row can be solved for $x_i$:\n",
    "\n",
    "$$\n",
    "x_i = A_{ii}^{-1} f_i - A_{ii}^{-1} A_{ib} x_b\n",
    "$$\n",
    "\n",
    "Substituting this on the first row:\n",
    "\n",
    "$$\n",
    "\\left( A_{bb} - A_{bi}A_{ii}^{-1} A_{ib} \\right) x_b = f_b - A_{bi}A_{ii}^{-1} f_i\n",
    "$$\n",
    "\n",
    "This can be rewritten as\n",
    "\n",
    "$$\n",
    "A'_{bb} \\cdot x_b = f'_b\n",
    "$$\n",
    "\n",
    "where $A'_{bb} = A_{bb} - A_{bi}A_{ii}^{-1} A_{ib}$ and \n",
    "$f'_b = f_b - A_{bi}A_{ii}^{-1} f_i$.\n",
    "\n",
    "With these transormations, if the linear system is symmetric and positive and definite,  to solve a linear system, we need to use the following steps:\n",
    " \n",
    " * Compute $A_{ii}^{-1}$ (in reality do a Cholesky decomposition).\n",
    " * Compute $A_{bi} A_{ii}^{-1}$\n",
    " * Compute the Choleksy factorization of $A'_{bb} = A_{bb} - A_{bi}A_{ii}^{-1} \\cdot A_{ib}$\n",
    " \n",
    "To solve the linear system given a RHS (f):\n",
    "\n",
    " * Compute $f'_b = f_b - A_{bi}A_{ii}^{-1} f_i$.\n",
    " * Using the Cholesky factorization of $A'_{bb}$ compute $x_b$.\n",
    " * Now, using the Choleksy factorization of $A_{ii}$ compute $x_i = A_{ii}^{-1} f_i - A_{ii}^{-1} A_{ib} x_b$\n"
   ]
  },
  {
   "cell_type": "markdown",
   "metadata": {},
   "source": [
    "## A function to generate random symmetric matrices"
   ]
  },
  {
   "cell_type": "code",
   "execution_count": 862,
   "metadata": {
    "collapsed": false
   },
   "outputs": [
    {
     "data": {
      "text/plain": [
       "random_matrix (generic function with 3 methods)"
      ]
     },
     "execution_count": 862,
     "metadata": {},
     "output_type": "execute_result"
    }
   ],
   "source": [
    "\n",
    "function random_matrix(n, symm=true, diag=4.0)\n",
    "    A = randn(n,n)\n",
    "    for i = 1:n\n",
    "        A[i,i] += diag\n",
    "    end\n",
    "    \n",
    "    if symm\n",
    "        A = (A + A') / 2\n",
    "    end\n",
    "    \n",
    "    return A\n",
    "end"
   ]
  },
  {
   "cell_type": "markdown",
   "metadata": {},
   "source": [
    "### Creating the matrix"
   ]
  },
  {
   "cell_type": "code",
   "execution_count": 863,
   "metadata": {
    "collapsed": false
   },
   "outputs": [
    {
     "data": {
      "text/plain": [
       "6"
      ]
     },
     "execution_count": 863,
     "metadata": {},
     "output_type": "execute_result"
    }
   ],
   "source": [
    "N = 12\n",
    "nb = 6\n",
    "ni = N - nb"
   ]
  },
  {
   "cell_type": "code",
   "execution_count": 864,
   "metadata": {
    "collapsed": false
   },
   "outputs": [],
   "source": [
    "A = [\n",
    " 3.73295   0.351419  -0.534708   0.301579   0.558047;\n",
    "  0.351419  6.48719    0.31895    0.198893   0.400289;\n",
    " -0.534708  0.31895    4.81739    0.309232  -0.103873;\n",
    "  0.301579  0.198893   0.309232   5.411     -0.37619 ;\n",
    "    0.558047  0.400289  -0.103873  -0.37619    3.44621 ]\n",
    "\n",
    "\n",
    "A = random_matrix(N);\n"
   ]
  },
  {
   "cell_type": "markdown",
   "metadata": {},
   "source": [
    "### Obtaining the sub-matrices"
   ]
  },
  {
   "cell_type": "code",
   "execution_count": 865,
   "metadata": {
    "collapsed": false
   },
   "outputs": [],
   "source": [
    "Abb = A[1:nb, 1:nb];"
   ]
  },
  {
   "cell_type": "code",
   "execution_count": 866,
   "metadata": {
    "collapsed": true
   },
   "outputs": [],
   "source": [
    "Abi = A[1:nb, (nb+1):N];"
   ]
  },
  {
   "cell_type": "code",
   "execution_count": 867,
   "metadata": {
    "collapsed": true
   },
   "outputs": [],
   "source": [
    "Aib = A[(nb+1):N, 1:nb];"
   ]
  },
  {
   "cell_type": "code",
   "execution_count": 868,
   "metadata": {
    "collapsed": false
   },
   "outputs": [],
   "source": [
    "Aii = A[(nb+1):N, (nb+1):N];"
   ]
  },
  {
   "cell_type": "markdown",
   "metadata": {},
   "source": [
    "### Loading the appropriate modules"
   ]
  },
  {
   "cell_type": "code",
   "execution_count": 869,
   "metadata": {
    "collapsed": true
   },
   "outputs": [],
   "source": [
    "using ArrayViews\n",
    "using Base.LinAlg.BLAS.gemm!\n",
    "using Base.LinAlg.BLAS.gemv!\n",
    "using Base.LinAlg.LAPACK.potrf!\n",
    "using Base.LinAlg.LAPACK.potrs!\n"
   ]
  },
  {
   "cell_type": "markdown",
   "metadata": {},
   "source": [
    "Cholesky decompostion of $A_{ii}$"
   ]
  },
  {
   "cell_type": "code",
   "execution_count": 870,
   "metadata": {
    "collapsed": false
   },
   "outputs": [],
   "source": [
    "potrf!('L', Aii);"
   ]
  },
  {
   "cell_type": "markdown",
   "metadata": {},
   "source": [
    "Computing the matrix $A_{bi}A_{ii}^{-1}$. This is kindy of tricky. Remembering that $(A\\cdot B)^T = A^T\\cdot B^T$, and that the system is symmetric, if we compute $M = A_{ii}^{-1}\\cdot A_{ib}$, then $M^T = \\left(A_{ii}^{-1}\\cdot A_{ib}\\right)^T = A_{bi}\\cdot A_{ii}^{-1}$"
   ]
  },
  {
   "cell_type": "code",
   "execution_count": 871,
   "metadata": {
    "collapsed": false
   },
   "outputs": [],
   "source": [
    "M = copy(Aib);\n",
    "potrs!('L', Aii, M);"
   ]
  },
  {
   "cell_type": "markdown",
   "metadata": {},
   "source": [
    "Now we need to compute $A'_{bb} =  A_{bb} - A_{bi}A_{ii}^{-1} A_{ib} = A_{bb} - M^T\\cdot A_{ib}$. BLAS makes it simple:"
   ]
  },
  {
   "cell_type": "code",
   "execution_count": 872,
   "metadata": {
    "collapsed": false
   },
   "outputs": [],
   "source": [
    "gemm!('T', 'N', -1.0, M, Aib, 1.0, Abb);"
   ]
  },
  {
   "cell_type": "markdown",
   "metadata": {},
   "source": [
    "Cholesky decomposition of $A'_{bb}$:"
   ]
  },
  {
   "cell_type": "code",
   "execution_count": 873,
   "metadata": {
    "collapsed": false
   },
   "outputs": [],
   "source": [
    "potrf!('L', Abb);"
   ]
  },
  {
   "cell_type": "markdown",
   "metadata": {},
   "source": [
    "### Solving for a RHS\n",
    "\n",
    "This is just a test. Let's just create any RHS:"
   ]
  },
  {
   "cell_type": "code",
   "execution_count": 874,
   "metadata": {
    "collapsed": true
   },
   "outputs": [],
   "source": [
    "f = float([1:N]);"
   ]
  },
  {
   "cell_type": "code",
   "execution_count": 875,
   "metadata": {
    "collapsed": false
   },
   "outputs": [],
   "source": [
    "fbi = copy(f);"
   ]
  },
  {
   "cell_type": "code",
   "execution_count": 876,
   "metadata": {
    "collapsed": true
   },
   "outputs": [],
   "source": [
    "fb = view(fbi, 1:nb)\n",
    "fi = view(fbi, (nb+1):N);"
   ]
  },
  {
   "cell_type": "markdown",
   "metadata": {},
   "source": [
    "Solving for boundary modes. First we need to correct the RHS: $f'_b = f_b - A_{bi}A_{ii}^{-1} f_i$."
   ]
  },
  {
   "cell_type": "code",
   "execution_count": 877,
   "metadata": {
    "collapsed": false
   },
   "outputs": [],
   "source": [
    "gemv!('T', -1.0, M, fi, 1.0, fb);"
   ]
  },
  {
   "cell_type": "markdown",
   "metadata": {},
   "source": [
    "Solve the boundary linear system:"
   ]
  },
  {
   "cell_type": "code",
   "execution_count": 878,
   "metadata": {
    "collapsed": false
   },
   "outputs": [],
   "source": [
    "potrs!('L', Abb, fb);"
   ]
  },
  {
   "cell_type": "markdown",
   "metadata": {},
   "source": [
    "Variable fb contains $x_b$. Now solve the equation for $x_i$:"
   ]
  },
  {
   "cell_type": "code",
   "execution_count": 879,
   "metadata": {
    "collapsed": true
   },
   "outputs": [],
   "source": [
    "potrs!('L', Aii, fi)\n",
    "gemv!('N', -1.0, M, fb, 1.0, fi);"
   ]
  },
  {
   "cell_type": "code",
   "execution_count": 880,
   "metadata": {
    "collapsed": false
   },
   "outputs": [
    {
     "data": {
      "text/plain": [
       "12-element Array{Float64,1}:\n",
       "  -6.57535 \n",
       " -10.7013  \n",
       "  -4.55052 \n",
       "  32.3598  \n",
       "  -0.339103\n",
       "  -1.47511 \n",
       "  -9.48928 \n",
       "  21.0901  \n",
       "  22.3424  \n",
       "  27.3757  \n",
       "  10.3601  \n",
       "  13.1598  "
      ]
     },
     "execution_count": 880,
     "metadata": {},
     "output_type": "execute_result"
    }
   ],
   "source": [
    "x = copy(fbi)"
   ]
  },
  {
   "cell_type": "markdown",
   "metadata": {},
   "source": [
    "Typical solution:"
   ]
  },
  {
   "cell_type": "code",
   "execution_count": 881,
   "metadata": {
    "collapsed": false
   },
   "outputs": [
    {
     "data": {
      "text/plain": [
       "12-element Array{Float64,1}:\n",
       " -1.11107 \n",
       "  4.29908 \n",
       "  1.02735 \n",
       " -6.4175  \n",
       "  2.94724 \n",
       " 10.5839  \n",
       "  7.3945  \n",
       " -2.05764 \n",
       " -0.92681 \n",
       " -1.69711 \n",
       " -6.00506 \n",
       "  0.288274"
      ]
     },
     "execution_count": 881,
     "metadata": {},
     "output_type": "execute_result"
    }
   ],
   "source": [
    "x0 = A\\f"
   ]
  },
  {
   "cell_type": "code",
   "execution_count": 882,
   "metadata": {
    "collapsed": false
   },
   "outputs": [
    {
     "data": {
      "text/plain": [
       "12-element Array{Float64,1}:\n",
       "   5.46427\n",
       "  15.0003 \n",
       "   5.57787\n",
       " -38.7773 \n",
       "   3.28634\n",
       "  12.059  \n",
       "  16.8838 \n",
       " -23.1477 \n",
       " -23.2692 \n",
       " -29.0728 \n",
       " -16.3652 \n",
       " -12.8715 "
      ]
     },
     "execution_count": 882,
     "metadata": {},
     "output_type": "execute_result"
    }
   ],
   "source": [
    "x0 - x"
   ]
  },
  {
   "cell_type": "markdown",
   "metadata": {
    "collapsed": true
   },
   "source": [
    "# Non symmetric matrices\n",
    "\n",
    "In this case,\n",
    "\n",
    "$$\n",
    "A_{bi}^T \\ne A_{ib}\n",
    "$$\n",
    "\n",
    "## Generating a nonrandom matrix B\n"
   ]
  },
  {
   "cell_type": "code",
   "execution_count": 883,
   "metadata": {
    "collapsed": false
   },
   "outputs": [
    {
     "data": {
      "text/plain": [
       "12x12 Array{Float64,2}:\n",
       "  4.45551    -0.906613   -0.823319   …   0.517527  -0.247443   -1.66694 \n",
       "  1.43368     4.23531     0.408496      -1.21947   -0.0969868   0.120294\n",
       " -1.0214      0.196459    4.52213       -1.04513    0.305883    1.81411 \n",
       " -0.0252314   0.489283   -0.514954      -1.04699   -0.79036     0.197852\n",
       " -1.81308     0.191856    0.636454       1.38187    0.658353   -0.377176\n",
       " -0.581252   -0.0686093  -0.212306   …   0.295353   0.719947   -0.34562 \n",
       "  0.434826   -0.593841    0.513981      -0.23067    0.539087   -1.09095 \n",
       " -1.39304    -0.191897   -0.377663      -1.40171   -0.177718   -0.251838\n",
       "  0.759108   -1.1473      0.0818392      0.322833   0.148805   -0.256483\n",
       " -2.17155    -0.893701   -0.061407       4.77927    1.01985    -0.664695\n",
       " -1.24363    -0.859376    1.4048     …  -0.556837   2.80906    -1.1961  \n",
       " -0.279687    0.753762    1.39864        0.62235   -1.86631     5.22377 "
      ]
     },
     "execution_count": 883,
     "metadata": {},
     "output_type": "execute_result"
    }
   ],
   "source": [
    "B = random_matrix(N, false)"
   ]
  },
  {
   "cell_type": "code",
   "execution_count": 884,
   "metadata": {
    "collapsed": false
   },
   "outputs": [],
   "source": [
    "Bbb = B[1:nb, 1:nb]\n",
    "Bbi = B[1:nb, (nb+1):N]\n",
    "Bib = B[(nb+1):N, 1:nb]\n",
    "Bii = B[(nb+1):N, (nb+1):N];\n"
   ]
  },
  {
   "cell_type": "code",
   "execution_count": 886,
   "metadata": {
    "collapsed": false
   },
   "outputs": [
    {
     "data": {
      "text/plain": [
       "(\n",
       "6x6 Array{Float64,2}:\n",
       "  2.56014    -0.674388    0.505812  -0.23067     0.539087  -1.09095 \n",
       " -0.0119063   4.65643     0.156798  -1.40446    -0.1713    -0.264827\n",
       " -0.0949156  -0.136648    2.6524     0.109022    0.176565  -0.396219\n",
       " -0.133515   -0.0224777   0.122207   4.70358     1.0664    -0.767885\n",
       " -0.0220794   0.061648   -0.300763  -0.0940896   2.98496   -1.39528 \n",
       "  0.297474    0.0613333  -0.177359   0.169327   -0.725444   4.61209 ,\n",
       "\n",
       "[1,2,3,4,5,6],0)"
      ]
     },
     "execution_count": 886,
     "metadata": {},
     "output_type": "execute_result"
    }
   ],
   "source": [
    "using Base.LinAlg.LAPACK.getrf!\n",
    "\n",
    "Bii, ipiv, info = getrf!(Bii);"
   ]
  },
  {
   "cell_type": "markdown",
   "metadata": {},
   "source": [
    "We need to calculate the matrix $A_{bi}A_{ii}^{-1}AA_{ib}$. \n",
    "In this case the matrix is not symmetric and therefore we need to calculate\n",
    "the matrix\n",
    "\n",
    "$$\n",
    "M = \\left(A_{bi}A_{ii}^{-1}\\right)^T = \\left(A_{ii}^{-1}\\right)^T A_{bi}^T\n",
    "$$\n"
   ]
  },
  {
   "cell_type": "code",
   "execution_count": 887,
   "metadata": {
    "collapsed": false
   },
   "outputs": [
    {
     "data": {
      "text/plain": [
       "6x6 Array{Float64,2}:\n",
       "  0.769793  -0.821204   -0.306636   0.00996761  0.760765   -0.21825   \n",
       "  0.366967   0.0827027   0.215796   0.209344    0.210894    0.36648   \n",
       " -0.418189   0.431749    1.18649    0.387315    0.427295    0.592604  \n",
       "  0.260161  -0.269119   -0.248919  -0.207993    0.344091    0.145847  \n",
       " -0.436382   0.116143    0.497323  -0.220233    0.0725595   0.243173  \n",
       " -0.227997  -0.13094     0.434101  -0.00782678  0.178222    0.00925945"
      ]
     },
     "execution_count": 887,
     "metadata": {},
     "output_type": "execute_result"
    }
   ],
   "source": [
    "using Base.LinAlg.LAPACK.getrs!\n",
    "\n",
    "M2 = Bbi'\n",
    "\n",
    "getrs!('T', Bii, ipiv, M2)"
   ]
  },
  {
   "cell_type": "markdown",
   "metadata": {},
   "source": [
    "When calculating the RHS, we need to compute $M_b = A_{ii}^{-1}A_{ib} \\ne M^T$. No problem just pre-calculate it and store for further use."
   ]
  },
  {
   "cell_type": "code",
   "execution_count": 888,
   "metadata": {
    "collapsed": false
   },
   "outputs": [],
   "source": [
    "M2b = copy(Bib)\n",
    "getrs!('N', Bii, ipiv, M2b);"
   ]
  },
  {
   "cell_type": "code",
   "execution_count": 889,
   "metadata": {
    "collapsed": false
   },
   "outputs": [],
   "source": [
    "gemm!('T', 'N', -1.0, M2, Bib, 1.0, Bbb);"
   ]
  },
  {
   "cell_type": "code",
   "execution_count": 890,
   "metadata": {
    "collapsed": false
   },
   "outputs": [
    {
     "data": {
      "text/plain": [
       "6x6 Array{Float64,2}:\n",
       "  0.0           0.0           0.0          …   0.0           4.44089e-16\n",
       "  0.0          -8.88178e-16  -1.11022e-16     -2.22045e-16  -1.11022e-16\n",
       " -2.22045e-16   2.22045e-16   0.0              0.0           0.0        \n",
       "  0.0           1.11022e-16  -5.55112e-17      1.11022e-16  -5.55112e-17\n",
       "  0.0           0.0          -1.11022e-16      0.0           2.22045e-16\n",
       " -2.22045e-16  -1.11022e-16   5.55112e-17  …   0.0           0.0        "
      ]
     },
     "execution_count": 890,
     "metadata": {},
     "output_type": "execute_result"
    }
   ],
   "source": [
    "M2' * Bib - MM\n",
    "Bbb - Bbb2"
   ]
  },
  {
   "cell_type": "code",
   "execution_count": 891,
   "metadata": {
    "collapsed": false
   },
   "outputs": [
    {
     "data": {
      "text/plain": [
       "(\n",
       "6x6 Array{Float64,2}:\n",
       "  4.90792    -0.8295    -0.0982744  -0.281448   1.34586     2.3475   \n",
       "  0.224462    4.40304    0.851991   -0.451879  -1.82632    -0.0424158\n",
       " -0.262591    0.244588   3.10886    -1.70836    0.873596   -0.906604 \n",
       " -0.154791    0.109491  -0.0880235   2.9913    -0.478555    0.687424 \n",
       " -0.262263    0.270795  -0.0953552  -0.317662   7.08327     1.55027  \n",
       "  0.0399438   0.208374  -0.170298   -0.508367  -0.0796304   3.17599  ,\n",
       "\n",
       "[1,2,3,4,5,6],0)"
      ]
     },
     "execution_count": 891,
     "metadata": {},
     "output_type": "execute_result"
    }
   ],
   "source": [
    "Bbb, ipiv2, info = getrf!(Bbb)"
   ]
  },
  {
   "cell_type": "markdown",
   "metadata": {},
   "source": [
    "## Solving for a RHS"
   ]
  },
  {
   "cell_type": "code",
   "execution_count": 892,
   "metadata": {
    "collapsed": false
   },
   "outputs": [
    {
     "data": {
      "text/plain": [
       "12-element Array{Float64,1}:\n",
       "  1.0\n",
       "  2.0\n",
       "  3.0\n",
       "  4.0\n",
       "  5.0\n",
       "  6.0\n",
       "  7.0\n",
       "  8.0\n",
       "  9.0\n",
       " 10.0\n",
       " 11.0\n",
       " 12.0"
      ]
     },
     "execution_count": 892,
     "metadata": {},
     "output_type": "execute_result"
    }
   ],
   "source": [
    "g = float([1:N;])\n",
    "gbi = copy(g)"
   ]
  },
  {
   "cell_type": "code",
   "execution_count": 893,
   "metadata": {
    "collapsed": false
   },
   "outputs": [
    {
     "data": {
      "text/plain": [
       "6-element ContiguousView{Float64,1,Array{Float64,1}}:\n",
       "  7.0\n",
       "  8.0\n",
       "  9.0\n",
       " 10.0\n",
       " 11.0\n",
       " 12.0"
      ]
     },
     "execution_count": 893,
     "metadata": {},
     "output_type": "execute_result"
    }
   ],
   "source": [
    "gb = view(gbi, 1:nb)\n",
    "gi = view(gbi, (nb+1):N)\n"
   ]
  },
  {
   "cell_type": "code",
   "execution_count": 894,
   "metadata": {
    "collapsed": false
   },
   "outputs": [],
   "source": [
    "gemv!('T', -1.0, M2, gi, 1.0, gb);"
   ]
  },
  {
   "cell_type": "code",
   "execution_count": 895,
   "metadata": {
    "collapsed": false
   },
   "outputs": [
    {
     "data": {
      "text/plain": [
       "6-element ContiguousView{Float64,1,Array{Float64,1}}:\n",
       "  2.35372 \n",
       "  1.84105 \n",
       " -5.26632 \n",
       "  0.956587\n",
       " -1.4038  \n",
       " -2.98605 "
      ]
     },
     "execution_count": 895,
     "metadata": {},
     "output_type": "execute_result"
    }
   ],
   "source": [
    "getrs!('N', Bbb, ipiv2, gb);\n",
    "gb"
   ]
  },
  {
   "cell_type": "code",
   "execution_count": 896,
   "metadata": {
    "collapsed": false
   },
   "outputs": [],
   "source": [
    "getrs!('N', Bii, ipiv, gi)\n",
    "gemv!('N', -1.0, M2b, gb, 1.0, gi);"
   ]
  },
  {
   "cell_type": "code",
   "execution_count": 897,
   "metadata": {
    "collapsed": false
   },
   "outputs": [
    {
     "data": {
      "text/plain": [
       "12x3 Array{Float64,2}:\n",
       "  2.35372    2.35372   -2.66454e-15\n",
       "  1.84105    1.84105    4.44089e-16\n",
       " -5.26632   -5.26632    7.10543e-15\n",
       "  0.956587   0.956587   2.22045e-16\n",
       " -1.4038    -1.4038    -6.66134e-16\n",
       " -2.98605   -2.98605    3.9968e-15 \n",
       "  3.61448    3.61448   -4.44089e-16\n",
       "  2.06506    2.06506    4.44089e-16\n",
       "  4.6023     4.6023    -4.44089e-15\n",
       "  0.575544   0.575544   1.22125e-15\n",
       " 13.4291    13.4291    -5.32907e-15\n",
       "  8.25518    8.25518   -5.32907e-15"
      ]
     },
     "execution_count": 897,
     "metadata": {},
     "output_type": "execute_result"
    }
   ],
   "source": [
    "y = copy(gbi)\n",
    "y0 = B\\g\n",
    "\n",
    "hcat(y0, y, y-y0)"
   ]
  },
  {
   "cell_type": "code",
   "execution_count": null,
   "metadata": {
    "collapsed": true
   },
   "outputs": [],
   "source": []
  }
 ],
 "metadata": {
  "kernelspec": {
   "display_name": "Julia 0.3.11",
   "language": "julia",
   "name": "julia-0.3"
  },
  "language_info": {
   "file_extension": ".jl",
   "mimetype": "application/julia",
   "name": "julia",
   "version": "0.3.11"
  }
 },
 "nbformat": 4,
 "nbformat_minor": 0
}
