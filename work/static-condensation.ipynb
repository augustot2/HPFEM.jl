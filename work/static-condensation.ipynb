{
 "cells": [
  {
   "cell_type": "code",
   "execution_count": 1,
   "metadata": {
    "collapsed": false
   },
   "outputs": [
    {
     "data": {
      "text/plain": [
       "HPFEM"
      ]
     },
     "execution_count": 1,
     "metadata": {},
     "output_type": "execute_result"
    }
   ],
   "source": [
    "using PyPlot\n",
    "include(\"../src/HPFEM.jl\")\n",
    "H = HPFEM"
   ]
  },
  {
   "cell_type": "code",
   "execution_count": 2,
   "metadata": {
    "collapsed": true
   },
   "outputs": [],
   "source": [
    "b = H.Basis1d(5,7);"
   ]
  },
  {
   "cell_type": "code",
   "execution_count": 3,
   "metadata": {
    "collapsed": false
   },
   "outputs": [],
   "source": [
    "Nel = 3\n",
    "pts = [linspace(0, 5, Nel+1);]\n",
    "\n",
    "elems = [H.Element1d(1, pts[i], pts[i+1], b) for i in 1:Nel];"
   ]
  },
  {
   "cell_type": "code",
   "execution_count": 4,
   "metadata": {
    "collapsed": false
   },
   "outputs": [],
   "source": [
    "dof = H.DofMap1d(H.nmodes(b), Nel+1, []);\n",
    "solver = H.CholeskySC(dof, H.BBSymTri);"
   ]
  },
  {
   "cell_type": "code",
   "execution_count": 5,
   "metadata": {
    "collapsed": false
   },
   "outputs": [],
   "source": [
    "ii = H.interior_idx(b)\n",
    "ib = H.bndry_idx(b);"
   ]
  },
  {
   "cell_type": "code",
   "execution_count": 6,
   "metadata": {
    "collapsed": false
   },
   "outputs": [
    {
     "name": "stdout",
     "output_type": "stream",
     "text": [
      "======================================\n",
      "PROCESSING ELEMENT \n",
      "-0.013888888888889006\n",
      "======================================\n",
      "PROCESSING ELEMENT \n",
      "-0.013888888888889006\n",
      "======================================\n",
      "PROCESSING ELEMENT \n",
      "-0.01388888888888895\n"
     ]
    }
   ],
   "source": [
    "for e = 1:Nel\n",
    "    println(\"======================================\")\n",
    "    println(\"PROCESSING ELEMENT \", )\n",
    "    M = H.mass_matrix(b, elems[e])\n",
    "    Abb = M[ib,ib]\n",
    "    Aii = M[ii,ii]\n",
    "    Abi = M[ib,ii]\n",
    "    println(H.add_local_matrix(solver, e, Abb, Abi, Aii))\n",
    "end"
   ]
  },
  {
   "cell_type": "code",
   "execution_count": 7,
   "metadata": {
    "collapsed": false
   },
   "outputs": [
    {
     "data": {
      "text/plain": [
       "HPFEM.BBSymTri{Float64}(4,4,[0.06944444444444431,0.13888888888888878,0.1388888888888889,0.06944444444444448],[-0.013888888888889006,-0.013888888888889006,-0.01388888888888895])"
      ]
     },
     "execution_count": 7,
     "metadata": {},
     "output_type": "execute_result"
    }
   ],
   "source": [
    "solver.Abb"
   ]
  },
  {
   "cell_type": "code",
   "execution_count": null,
   "metadata": {
    "collapsed": true
   },
   "outputs": [],
   "source": []
  }
 ],
 "metadata": {
  "kernelspec": {
   "display_name": "Julia 0.4.3",
   "language": "julia",
   "name": "julia-0.4"
  },
  "language_info": {
   "file_extension": ".jl",
   "mimetype": "application/julia",
   "name": "julia",
   "version": "0.4.3"
  }
 },
 "nbformat": 4,
 "nbformat_minor": 0
}
