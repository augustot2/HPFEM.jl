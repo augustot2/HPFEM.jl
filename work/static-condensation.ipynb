{
 "cells": [
  {
   "cell_type": "code",
   "execution_count": 284,
   "metadata": {
    "collapsed": false
   },
   "outputs": [
    {
     "name": "stderr",
     "output_type": "stream",
     "text": [
      "WARNING: replacing module HPFEM\n"
     ]
    },
    {
     "data": {
      "text/plain": [
       "HPFEM"
      ]
     },
     "execution_count": 284,
     "metadata": {},
     "output_type": "execute_result"
    }
   ],
   "source": [
    "using PyPlot\n",
    "include(\"../src/HPFEM.jl\")\n",
    "H = HPFEM"
   ]
  },
  {
   "cell_type": "code",
   "execution_count": 285,
   "metadata": {
    "collapsed": true
   },
   "outputs": [],
   "source": [
    "b = H.Basis1d(4,6);"
   ]
  },
  {
   "cell_type": "code",
   "execution_count": 286,
   "metadata": {
    "collapsed": false
   },
   "outputs": [],
   "source": [
    "Nel = 3\n",
    "pts = [linspace(0, 5, Nel+1);]\n",
    "\n",
    "elems = [H.Element1d(1, pts[i], pts[i+1], b) for i in 1:Nel];"
   ]
  },
  {
   "cell_type": "code",
   "execution_count": 302,
   "metadata": {
    "collapsed": false
   },
   "outputs": [],
   "source": [
    "dof = H.DofMap1d(H.nmodes(b), Nel+1, []);\n",
    "solver = H.CholeskySC(dof, H.BBSymTri);"
   ]
  },
  {
   "cell_type": "code",
   "execution_count": 303,
   "metadata": {
    "collapsed": false
   },
   "outputs": [],
   "source": [
    "ii = H.interior_idx(b)\n",
    "ib = H.bndry_idx(b);"
   ]
  },
  {
   "cell_type": "code",
   "execution_count": 304,
   "metadata": {
    "collapsed": false
   },
   "outputs": [
    {
     "name": "stdout",
     "output_type": "stream",
     "text": [
      "======================================\n",
      "PROCESSING ELEMENT \n",
      "0.02777777777777779\n",
      "======================================\n",
      "PROCESSING ELEMENT \n",
      "0.02777777777777779\n",
      "======================================\n",
      "PROCESSING ELEMENT \n",
      "0.027777777777777957\n"
     ]
    }
   ],
   "source": [
    "for e = 1:Nel\n",
    "    println(\"======================================\")\n",
    "    println(\"PROCESSING ELEMENT \", )\n",
    "    M = H.mass_matrix(b, elems[e])\n",
    "    Abb = M[ib,ib]\n",
    "    Aii = M[ii,ii]\n",
    "    Abi = M[ib,ii]\n",
    "    println(H.add_local_matrix(solver, e, Abb, Abi, Aii))\n",
    "end"
   ]
  },
  {
   "cell_type": "code",
   "execution_count": 305,
   "metadata": {
    "collapsed": false
   },
   "outputs": [
    {
     "data": {
      "text/plain": [
       "HPFEM.BBSymTri{Float64}(4,4,[0.11111111111111116,0.22222222222222227,0.22222222222222227,0.11111111111111116],[0.02777777777777779,0.02777777777777779,0.027777777777777957])"
      ]
     },
     "execution_count": 305,
     "metadata": {},
     "output_type": "execute_result"
    }
   ],
   "source": [
    "solver.Abb"
   ]
  },
  {
   "cell_type": "code",
   "execution_count": null,
   "metadata": {
    "collapsed": true
   },
   "outputs": [],
   "source": []
  }
 ],
 "metadata": {
  "kernelspec": {
   "display_name": "Julia 0.4.3",
   "language": "julia",
   "name": "julia-0.4"
  },
  "language_info": {
   "file_extension": ".jl",
   "mimetype": "application/julia",
   "name": "julia",
   "version": "0.4.3"
  }
 },
 "nbformat": 4,
 "nbformat_minor": 0
}
