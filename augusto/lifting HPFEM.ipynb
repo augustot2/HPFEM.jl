{
 "cells": [
  {
   "cell_type": "code",
   "execution_count": 31,
   "metadata": {
    "collapsed": false
   },
   "outputs": [
    {
     "name": "stderr",
     "output_type": "stream",
     "text": [
      "WARNING: replacing module HPFEM\n"
     ]
    },
    {
     "data": {
      "text/plain": [
       "HPFEM.LocalNumSys1d(2,1,[1,2],[3])"
      ]
     },
     "execution_count": 31,
     "metadata": {},
     "output_type": "execute_result"
    }
   ],
   "source": [
    "include(\"HPFEM.jl\")\n",
    "#elemento\n",
    "b =  [1,2] #modos de fronteira\n",
    "i =  [3] #modos internos\n",
    "lnum = HPFEM.LocalNumSys1d(b,i)\n"
   ]
  },
  {
   "cell_type": "code",
   "execution_count": 32,
   "metadata": {
    "collapsed": false
   },
   "outputs": [
    {
     "data": {
      "text/plain": [
       "2-element Array{Int64,1}:\n",
       " 1\n",
       " 2"
      ]
     },
     "execution_count": 32,
     "metadata": {},
     "output_type": "execute_result"
    }
   ],
   "source": [
    "lnum.bndry"
   ]
  },
  {
   "cell_type": "code",
   "execution_count": 33,
   "metadata": {
    "collapsed": false
   },
   "outputs": [
    {
     "ename": "LoadError",
     "evalue": "LoadError: BoundsError: attempt to access 3x2 Array{Int64,2}:\n 3  0\n 1  0\n 4  0\n  at index [4,1]\nwhile loading In[33], in expression starting on line 5",
     "output_type": "error",
     "traceback": [
      "LoadError: BoundsError: attempt to access 3x2 Array{Int64,2}:\n 3  0\n 1  0\n 4  0\n  at index [4,1]\nwhile loading In[33], in expression starting on line 5",
      "",
      " in call at /home/augusto/HPFEM.jl/src/dofmap.jl:26",
      " in call at /home/augusto/HPFEM.jl/src/dofmap.jl:91",
      " in call at /home/augusto/HPFEM.jl/src/dofmap.jl:45",
      " [inlined code] from essentials.jl:114"
     ]
    }
   ],
   "source": [
    "Nel = 2\n",
    "nnodes = Nel + 1\n",
    "\n",
    "idir = [1,nnodes]\n",
    "maping = HPFEM.DofMap1d(lnum,nnodes,idir);\n",
    "\n",
    "dof_map = zeros(Int, 2, Nel)\n",
    "for i = 1:Nel\n",
    "    dof_map[1,i] = i\n",
    "    dof_map[2,i] = i+1\n",
    "end\n",
    "dof_map\n",
    "ii = [nnodes;1:(nnodes-1);]\n",
    "nb = Nel+1\n",
    "nd = 2\n",
    "for e in 1:Nel\n",
    "    dof_map[1,e] = ii[e]\n",
    "    dof_map[2,e] = ii[e+1] \n",
    "end\n",
    "\n",
    "idir = Dict{Int,Vector{Int}}()\n",
    "nbslv = nb - nd\n",
    "ib = HPFEM.bndry_idx(lnum)\n",
    "\n",
    "for e= 1:Nel\n",
    "    if dof_map[1,e] > nbslv && dof_map[2,e] > nbslv\n",
    "        idir[e] = [ib[1],ib[2]]\n",
    "    elseif dof_map[1,e] > nbslv\n",
    "        idir[e] = [ib[1]]\n",
    "    elseif dof_map[2,e] > nbslv\n",
    "        idir[e] = [ib[2]]\n",
    "    end\n",
    "end\n",
    "idir"
   ]
  },
  {
   "cell_type": "code",
   "execution_count": 34,
   "metadata": {
    "collapsed": false
   },
   "outputs": [
    {
     "data": {
      "text/plain": [
       "2x4 Array{Int64,2}:\n",
       " 5  1  2  3\n",
       " 1  2  3  4"
      ]
     },
     "execution_count": 34,
     "metadata": {},
     "output_type": "execute_result"
    }
   ],
   "source": [
    "dof_map"
   ]
  },
  {
   "cell_type": "code",
   "execution_count": 26,
   "metadata": {
    "collapsed": true
   },
   "outputs": [],
   "source": [
    "using Jacobi\n",
    "using PyPlot"
   ]
  },
  {
   "cell_type": "code",
   "execution_count": 27,
   "metadata": {
    "collapsed": false
   },
   "outputs": [
    {
     "data": {
      "text/plain": [
       "ψj (generic function with 1 method)"
      ]
     },
     "execution_count": 27,
     "metadata": {},
     "output_type": "execute_result"
    }
   ],
   "source": [
    "function ψj(p,E,Q)\n",
    "    if(p == 1)\n",
    "     return  (1-E)/2\n",
    "        elseif(p == 2)\n",
    "     return  (1+E)/2\n",
    "    else\n",
    "     return  (1-E)*(1+E)/4 .* jacobi(E, p-3, 1, 1)\n",
    "    end\n",
    "end "
   ]
  },
  {
   "cell_type": "code",
   "execution_count": 28,
   "metadata": {
    "collapsed": false
   },
   "outputs": [
    {
     "data": {
      "image/png": "[encoded data removed]",
      "text/plain": [
       "PyPlot.Figure(PyObject <matplotlib.figure.Figure object at 0x7f6757737050>)"
      ]
     },
     "metadata": {},
     "output_type": "display_data"
    },
    {
     "data": {
      "text/plain": [
       "PyObject <matplotlib.text.Text object at 0x7f675766cd50>"
      ]
     },
     "execution_count": 28,
     "metadata": {},
     "output_type": "execute_result"
    }
   ],
   "source": [
    "x = collect([-1:0.001:1])\n",
    "y = [ψj(3,x,0) for x in -1:0.001:1]\n",
    "plot(x,y)\n",
    "title(\"\")"
   ]
  },
  {
   "cell_type": "code",
   "execution_count": null,
   "metadata": {
    "collapsed": true
   },
   "outputs": [],
   "source": []
  },
  {
   "cell_type": "code",
   "execution_count": null,
   "metadata": {
    "collapsed": true
   },
   "outputs": [],
   "source": []
  }
 ],
 "metadata": {
  "kernelspec": {
   "display_name": "Julia 0.4.2",
   "language": "julia",
   "name": "julia-0.4"
  },
  "language_info": {
   "file_extension": ".jl",
   "mimetype": "application/julia",
   "name": "julia",
   "version": "0.5.0"
  }
 },
 "nbformat": 4,
 "nbformat_minor": 0
}
